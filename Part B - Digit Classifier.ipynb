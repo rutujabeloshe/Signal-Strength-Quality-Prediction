{
 "cells": [
  {
   "cell_type": "markdown",
   "metadata": {},
   "source": [
    "## PROJECT OBJECTIVE:To build a digit classifier on the SVHN (Street View Housing Number) dataset."
   ]
  },
  {
   "cell_type": "markdown",
   "metadata": {},
   "source": [
    "### Part B - 30 Marks"
   ]
  },
  {
   "cell_type": "markdown",
   "metadata": {},
   "source": [
    "### DOMAIN: Autonomous Vehicles"
   ]
  },
  {
   "cell_type": "markdown",
   "metadata": {},
   "source": [
    "CONTEXT: A Recognising multi-digit numbers in photographs captured at street level is an important component of modern-day map\n",
    "making. A classic example of a corpus of such street-level photographs is Google’s Street View imagery composed of hundreds of millions\n",
    "of geo-located 360-degree panoramic images.\n",
    "The ability to automatically transcribe an address number from a geo-located patch of pixels and associate the transcribed number with a\n",
    "known street address helps pinpoint, with a high degree of accuracy, the location of the building it represents. More broadly, recognising\n",
    "numbers in photographs is a problem of interest to the optical character recognition community.\n",
    "While OCR on constrained domains like document processing is well studied, arbitrary multi-character text recognition in photographs is\n",
    "still highly challenging. This difficulty arises due to the wide variability in the visual appearance of text in the wild on account of a large\n",
    "range of fonts, colours, styles, orientations, and character arrangements.\n",
    "The recognition problem is further complicated by environmental factors such as lighting, shadows, specularity, and occlusions as well as\n",
    "by image acquisition factors such as resolution, motion, and focus blurs. In this project, we will use the dataset with images centred around\n",
    "a single digit (many of the images do contain some distractors at the sides). Although we are taking a sample of the data which is simpler,\n",
    "it is more complex than MNIST because of the distractors."
   ]
  },
  {
   "cell_type": "markdown",
   "metadata": {},
   "source": [
    "DATA DESCRIPTION: The SVHN is a real-world image dataset for developing machine learning and object recognition algorithms with the\n",
    "minimal requirement on data formatting but comes from a significantly harder, unsolved, real-world problem (recognising digits and\n",
    "numbers in natural scene images). SVHN is obtained from house numbers in Google Street View images.\n",
    "Where the labels for each of this image are the prominent number in that image i.e. 2,6,7 and 4 respectively.\n",
    "The dataset has been provided in the form of h5py files. You can read about this file format here: https://docs.h5py.org/en/stable/\n",
    "Acknowledgement: Yuval Netzer, Tao Wang, Adam Coates, Alessandro Bissacco, Bo Wu, Andrew Y. Ng Reading Digits in Natural Images with Unsupervised\n",
    "Feature Learning NIPS Workshop on Deep Learning and Unsupervised Feature Learning 2011. PDF\n",
    "http://ufldl.stanford.edu/housenumbers as the URL for this site."
   ]
  },
  {
   "cell_type": "markdown",
   "metadata": {},
   "source": [
    "## 1. Data Import and Exploration [5 Marks]"
   ]
  },
  {
   "cell_type": "code",
   "execution_count": 1,
   "metadata": {},
   "outputs": [],
   "source": [
    "# Import All Dependencies\n",
    "\n",
    "import numpy as np\n",
    "import pandas as pd\n",
    "import seaborn as sns\n",
    "import scipy.stats as stats \n",
    "import matplotlib.pyplot as plt\n",
    "from tensorflow import keras\n",
    "from sklearn.model_selection import StratifiedKFold\n",
    "from sklearn.model_selection import train_test_split\n",
    "from sklearn.preprocessing import StandardScaler, MinMaxScaler\n",
    "import pickle\n",
    "from tensorflow.keras.utils import to_categorical\n",
    "from tensorflow.keras.models import Sequential\n",
    "from tensorflow.keras.layers import Flatten, Dense\n",
    "from tensorflow.keras import regularizers, optimizers\n",
    "from sklearn.metrics import r2_score\n",
    "from tensorflow.keras.models import load_model\n",
    "import warnings\n",
    "import random\n",
    "from tensorflow.keras.layers import LeakyReLU\n",
    "from tensorflow.keras.utils import to_categorical\n",
    "from sklearn.metrics import confusion_matrix , accuracy_score, classification_report\n",
    "\n",
    "seed = 7\n",
    "np.random.seed(seed)\n",
    "warnings.filterwarnings(\"ignore\")\n",
    "%matplotlib inline"
   ]
  },
  {
   "cell_type": "markdown",
   "metadata": {},
   "source": [
    "### A. Read the .h5 file and assign to a variable. [2 Marks]"
   ]
  },
  {
   "cell_type": "code",
   "execution_count": 2,
   "metadata": {},
   "outputs": [],
   "source": [
    "import h5py"
   ]
  },
  {
   "cell_type": "code",
   "execution_count": 3,
   "metadata": {},
   "outputs": [],
   "source": [
    "# Open the file as readonly\n",
    "h5f = h5py.File('Autonomous_Vehicles_SVHN_single_grey1.h5', 'r')"
   ]
  },
  {
   "cell_type": "markdown",
   "metadata": {},
   "source": [
    "### B. Print all the keys from the .h5 file. [1 Marks]"
   ]
  },
  {
   "cell_type": "code",
   "execution_count": 4,
   "metadata": {},
   "outputs": [
    {
     "data": {
      "text/plain": [
       "<KeysViewHDF5 ['X_test', 'X_train', 'X_val', 'y_test', 'y_train', 'y_val']>"
      ]
     },
     "execution_count": 4,
     "metadata": {},
     "output_type": "execute_result"
    }
   ],
   "source": [
    "h5f.keys()"
   ]
  },
  {
   "cell_type": "markdown",
   "metadata": {},
   "source": [
    "### C. Split the data into X_train, X_test, Y_train, Y_test [2 Marks]"
   ]
  },
  {
   "cell_type": "code",
   "execution_count": 5,
   "metadata": {},
   "outputs": [],
   "source": [
    "# Load the training, test and validation set\n",
    "X_train = h5f['X_train'][:]\n",
    "y_train = h5f['y_train'][:]\n",
    "X_test = h5f['X_test'][:]\n",
    "y_test = h5f['y_test'][:]"
   ]
  },
  {
   "cell_type": "markdown",
   "metadata": {},
   "source": [
    "## 2. Data Visualisation and preprocessing [13 Marks]"
   ]
  },
  {
   "cell_type": "markdown",
   "metadata": {},
   "source": [
    "### A. Print shape of all the 4 data split into x, y, train, test to verify if x & y is in sync. [1 Marks]"
   ]
  },
  {
   "cell_type": "code",
   "execution_count": 6,
   "metadata": {},
   "outputs": [
    {
     "name": "stdout",
     "output_type": "stream",
     "text": [
      "Shape for X_train: (42000, 32, 32)\n",
      "Shape for y_train: (42000,)\n",
      "Shape for X_test: (18000, 32, 32)\n",
      "Shape for y_test: (18000,)\n"
     ]
    }
   ],
   "source": [
    "print(\"Shape for X_train: {}\".format(X_train.shape))\n",
    "print(\"Shape for y_train: {}\".format(y_train.shape))\n",
    "print(\"Shape for X_test: {}\".format(X_test.shape))\n",
    "print(\"Shape for y_test: {}\".format(y_test.shape))"
   ]
  },
  {
   "cell_type": "markdown",
   "metadata": {},
   "source": [
    "- Data is perfectly Sync in train test \n",
    "- 42000 images of shape 32 * 32 in train and  18000 images for test"
   ]
  },
  {
   "cell_type": "markdown",
   "metadata": {},
   "source": [
    "### B. Visualise first 10 images in train data and print its corresponding labels. [4 Marks]"
   ]
  },
  {
   "cell_type": "code",
   "execution_count": 7,
   "metadata": {},
   "outputs": [
    {
     "data": {
      "image/png": "[encoded data removed]",
      "text/plain": [
       "<Figure size 720x72 with 10 Axes>"
      ]
     },
     "metadata": {
      "needs_background": "light"
     },
     "output_type": "display_data"
    },
    {
     "name": "stdout",
     "output_type": "stream",
     "text": [
      "label for each of the above image: [2 6 7 4 4 0 3 0 7 3]\n"
     ]
    }
   ],
   "source": [
    "\n",
    "# visualizing the first 10 images in the dataset and their labels\n",
    "\n",
    "plt.figure(figsize=(10, 1))\n",
    "for i in range(10):\n",
    "    plt.subplot(1, 10, i+1)\n",
    "    plt.imshow(X_train[i], cmap=\"gray\")\n",
    "    plt.axis('off')\n",
    "plt.show()\n",
    "print('label for each of the above image: %s' % (y_train[0:10]))"
   ]
  },
  {
   "cell_type": "markdown",
   "metadata": {},
   "source": [
    "### C. Reshape all the images with appropriate shape update the data in same variable. [3 Marks]"
   ]
  },
  {
   "cell_type": "code",
   "execution_count": 8,
   "metadata": {},
   "outputs": [
    {
     "name": "stdout",
     "output_type": "stream",
     "text": [
      "Train Shape: (42000, 1024, 1)\n",
      "Test Shape: (18000, 1024, 1)\n"
     ]
    }
   ],
   "source": [
    "# Reshaping the dataset to flatten them. Remember that we are trying to reshape the 2D image data into a 1D array\n",
    "\n",
    "X_train = X_train.reshape(X_train.shape[0], 1024, 1)\n",
    "X_test = X_test.reshape(X_test.shape[0], 1024, 1)\n",
    "\n",
    "print(\"Train Shape: {}\".format(X_train.shape))\n",
    "print(\"Test Shape: {}\".format(X_test.shape))"
   ]
  },
  {
   "cell_type": "markdown",
   "metadata": {},
   "source": [
    "- Need to reshape the X_train and X_test so that the same can be fed for model building. Currently we have a 2D tensor and we need to feed a 1D tensor into the model."
   ]
  },
  {
   "cell_type": "markdown",
   "metadata": {},
   "source": [
    "### D. Normalise the images i.e. Normalise the pixel values. [2 Marks]"
   ]
  },
  {
   "cell_type": "code",
   "execution_count": 9,
   "metadata": {},
   "outputs": [],
   "source": [
    "# # normalize inputs from 0-255 to 0-1\n",
    "X_train = X_train / 255.0\n",
    "X_test = X_test / 255.0"
   ]
  },
  {
   "cell_type": "code",
   "execution_count": 10,
   "metadata": {},
   "outputs": [
    {
     "name": "stdout",
     "output_type": "stream",
     "text": [
      "Resized Training set (42000, 1024, 1) (42000,)\n",
      "Resized Test set (18000, 1024, 1) (18000,)\n"
     ]
    }
   ],
   "source": [
    "print('Resized Training set', X_train.shape, y_train.shape)\n",
    "print('Resized Test set', X_test.shape, y_test.shape)"
   ]
  },
  {
   "cell_type": "markdown",
   "metadata": {},
   "source": [
    "### E. Transform Labels into format acceptable by Neural Network [2 Marks]"
   ]
  },
  {
   "cell_type": "code",
   "execution_count": 11,
   "metadata": {},
   "outputs": [],
   "source": [
    "# one hot encode outputs\n",
    "y_train_encoded = to_categorical(y_train)\n",
    "y_test_encoded = to_categorical(y_test)\n"
   ]
  },
  {
   "cell_type": "markdown",
   "metadata": {},
   "source": [
    "### F. Print total Number of classes in the Dataset. [1 Marks]"
   ]
  },
  {
   "cell_type": "code",
   "execution_count": 12,
   "metadata": {},
   "outputs": [
    {
     "name": "stdout",
     "output_type": "stream",
     "text": [
      "The number of classes in this dataset are: 10\n"
     ]
    }
   ],
   "source": [
    "# no.of classes\n",
    "num_classes = y_train_encoded.shape[1] \n",
    "print(\"The number of classes in this dataset are:\",num_classes)"
   ]
  },
  {
   "cell_type": "markdown",
   "metadata": {},
   "source": [
    "## 3. Model Training & Evaluation using Neural Network [12 Marks]"
   ]
  },
  {
   "cell_type": "markdown",
   "metadata": {},
   "source": [
    "### A. Design a Neural Network to train a classifier. [3 Marks]"
   ]
  },
  {
   "cell_type": "code",
   "execution_count": 13,
   "metadata": {},
   "outputs": [],
   "source": [
    "# define model\n",
    "\n",
    "Model = Sequential()\n",
    "\n",
    "# The Input Layer :\n",
    "Model.add(Dense(units=128, \n",
    "                   kernel_initializer='normal',\n",
    "                   input_shape=(1024,),\n",
    "                   activation='relu'))\n",
    "\n",
    "# The Hidden Layers :\n",
    " \n",
    "\n",
    "Model.add(Dense(units=64, \n",
    "                   kernel_initializer='normal',\n",
    "                   activation='relu')) \n",
    "\n",
    "Model.add(Dense(units=32, \n",
    "                   kernel_initializer='normal'))\n",
    "Model.add(LeakyReLU(alpha=0.1))\n",
    "\n",
    "Model.add(Dense(units=16, \n",
    "                   kernel_initializer='normal'))\n",
    "Model.add(LeakyReLU(alpha=0.1))\n",
    "\n",
    "\n",
    "# The Output Layer :\n",
    "Model.add(Dense(units=num_classes, \n",
    "                   kernel_initializer='normal',\n",
    "                   activation=\"softmax\"))  # this is regression so will use linear activation function "
   ]
  },
  {
   "cell_type": "code",
   "execution_count": 14,
   "metadata": {},
   "outputs": [
    {
     "name": "stdout",
     "output_type": "stream",
     "text": [
      "Model: \"sequential\"\n",
      "_________________________________________________________________\n",
      " Layer (type)                Output Shape              Param #   \n",
      "=================================================================\n",
      " dense (Dense)               (None, 128)               131200    \n",
      "                                                                 \n",
      " dense_1 (Dense)             (None, 64)                8256      \n",
      "                                                                 \n",
      " dense_2 (Dense)             (None, 32)                2080      \n",
      "                                                                 \n",
      " leaky_re_lu (LeakyReLU)     (None, 32)                0         \n",
      "                                                                 \n",
      " dense_3 (Dense)             (None, 16)                528       \n",
      "                                                                 \n",
      " leaky_re_lu_1 (LeakyReLU)   (None, 16)                0         \n",
      "                                                                 \n",
      " dense_4 (Dense)             (None, 10)                170       \n",
      "                                                                 \n",
      "=================================================================\n",
      "Total params: 142,234\n",
      "Trainable params: 142,234\n",
      "Non-trainable params: 0\n",
      "_________________________________________________________________\n"
     ]
    }
   ],
   "source": [
    "# Compile the network :\n",
    "Model.compile(optimizer = 'adam', \n",
    "                 loss = 'categorical_crossentropy',\n",
    "                 metrics=[\"accuracy\"])\n",
    "\n",
    "\n",
    "Model.summary()"
   ]
  },
  {
   "cell_type": "markdown",
   "metadata": {},
   "source": [
    "### B. Train the classifier using previously designed Architecture (Use best suitable parameters). [3 Marks]"
   ]
  },
  {
   "cell_type": "code",
   "execution_count": 15,
   "metadata": {},
   "outputs": [
    {
     "name": "stdout",
     "output_type": "stream",
     "text": [
      "Epoch 1/200\n",
      "WARNING:tensorflow:AutoGraph could not transform <function Model.make_train_function.<locals>.train_function at 0x00000266BD2519D8> and will run it as-is.\n",
      "Please report this to the TensorFlow team. When filing the bug, set the verbosity to 10 (on Linux, `export AUTOGRAPH_VERBOSITY=10`) and attach the full output.\n",
      "Cause: 'arguments' object has no attribute 'posonlyargs'\n",
      "To silence this warning, decorate the function with @tf.autograph.experimental.do_not_convert\n",
      "WARNING: AutoGraph could not transform <function Model.make_train_function.<locals>.train_function at 0x00000266BD2519D8> and will run it as-is.\n",
      "Please report this to the TensorFlow team. When filing the bug, set the verbosity to 10 (on Linux, `export AUTOGRAPH_VERBOSITY=10`) and attach the full output.\n",
      "Cause: 'arguments' object has no attribute 'posonlyargs'\n",
      "To silence this warning, decorate the function with @tf.autograph.experimental.do_not_convert\n",
      "128/132 [============================>.] - ETA: 0s - loss: 2.3027 - accuracy: 0.0993WARNING:tensorflow:AutoGraph could not transform <function Model.make_test_function.<locals>.test_function at 0x00000266B1F9B1F8> and will run it as-is.\n",
      "Please report this to the TensorFlow team. When filing the bug, set the verbosity to 10 (on Linux, `export AUTOGRAPH_VERBOSITY=10`) and attach the full output.\n",
      "Cause: 'arguments' object has no attribute 'posonlyargs'\n",
      "To silence this warning, decorate the function with @tf.autograph.experimental.do_not_convert\n",
      "WARNING: AutoGraph could not transform <function Model.make_test_function.<locals>.test_function at 0x00000266B1F9B1F8> and will run it as-is.\n",
      "Please report this to the TensorFlow team. When filing the bug, set the verbosity to 10 (on Linux, `export AUTOGRAPH_VERBOSITY=10`) and attach the full output.\n",
      "Cause: 'arguments' object has no attribute 'posonlyargs'\n",
      "To silence this warning, decorate the function with @tf.autograph.experimental.do_not_convert\n",
      "132/132 [==============================] - 3s 12ms/step - loss: 2.3027 - accuracy: 0.0992 - val_loss: 2.3027 - val_accuracy: 0.0963\n",
      "Epoch 2/200\n",
      "132/132 [==============================] - 1s 8ms/step - loss: 2.2593 - accuracy: 0.1301 - val_loss: 2.1500 - val_accuracy: 0.1835\n",
      "Epoch 3/200\n",
      "132/132 [==============================] - 1s 9ms/step - loss: 2.0914 - accuracy: 0.1991 - val_loss: 1.9884 - val_accuracy: 0.2355\n",
      "Epoch 4/200\n",
      "132/132 [==============================] - 1s 9ms/step - loss: 1.9795 - accuracy: 0.2391 - val_loss: 1.9663 - val_accuracy: 0.2413\n",
      "Epoch 5/200\n",
      "132/132 [==============================] - 1s 11ms/step - loss: 1.9300 - accuracy: 0.2564 - val_loss: 1.8923 - val_accuracy: 0.2861\n",
      "Epoch 6/200\n",
      "132/132 [==============================] - 1s 10ms/step - loss: 1.8849 - accuracy: 0.2779 - val_loss: 1.8693 - val_accuracy: 0.2945\n",
      "Epoch 7/200\n",
      "132/132 [==============================] - 1s 10ms/step - loss: 1.8210 - accuracy: 0.3245 - val_loss: 1.7386 - val_accuracy: 0.3770\n",
      "Epoch 8/200\n",
      "132/132 [==============================] - 1s 9ms/step - loss: 1.6987 - accuracy: 0.3817 - val_loss: 1.6571 - val_accuracy: 0.3938\n",
      "Epoch 9/200\n",
      "132/132 [==============================] - 1s 9ms/step - loss: 1.6277 - accuracy: 0.4102 - val_loss: 1.5983 - val_accuracy: 0.4249\n",
      "Epoch 10/200\n",
      "132/132 [==============================] - 1s 9ms/step - loss: 1.5910 - accuracy: 0.4242 - val_loss: 1.5962 - val_accuracy: 0.4117\n",
      "Epoch 11/200\n",
      "132/132 [==============================] - 1s 8ms/step - loss: 1.5593 - accuracy: 0.4369 - val_loss: 1.5345 - val_accuracy: 0.4373\n",
      "Epoch 12/200\n",
      "132/132 [==============================] - 1s 9ms/step - loss: 1.5253 - accuracy: 0.4488 - val_loss: 1.5088 - val_accuracy: 0.4471\n",
      "Epoch 13/200\n",
      "132/132 [==============================] - 1s 9ms/step - loss: 1.5076 - accuracy: 0.4550 - val_loss: 1.4873 - val_accuracy: 0.4613\n",
      "Epoch 14/200\n",
      "132/132 [==============================] - 1s 9ms/step - loss: 1.4807 - accuracy: 0.4682 - val_loss: 1.4693 - val_accuracy: 0.4671\n",
      "Epoch 15/200\n",
      "132/132 [==============================] - 1s 10ms/step - loss: 1.4595 - accuracy: 0.4767 - val_loss: 1.4438 - val_accuracy: 0.4835\n",
      "Epoch 16/200\n",
      "132/132 [==============================] - 1s 8ms/step - loss: 1.4367 - accuracy: 0.4916 - val_loss: 1.4250 - val_accuracy: 0.4993\n",
      "Epoch 17/200\n",
      "132/132 [==============================] - 1s 9ms/step - loss: 1.4086 - accuracy: 0.5174 - val_loss: 1.4796 - val_accuracy: 0.4940\n",
      "Epoch 18/200\n",
      "132/132 [==============================] - 1s 4ms/step - loss: 1.3771 - accuracy: 0.5365 - val_loss: 1.4410 - val_accuracy: 0.5152\n",
      "Epoch 19/200\n",
      "132/132 [==============================] - 1s 4ms/step - loss: 1.3298 - accuracy: 0.5602 - val_loss: 1.3169 - val_accuracy: 0.5695\n",
      "Epoch 20/200\n",
      "132/132 [==============================] - 1s 4ms/step - loss: 1.2960 - accuracy: 0.5721 - val_loss: 1.2942 - val_accuracy: 0.5726\n",
      "Epoch 21/200\n",
      "132/132 [==============================] - 1s 6ms/step - loss: 1.2496 - accuracy: 0.5925 - val_loss: 1.2766 - val_accuracy: 0.5792\n",
      "Epoch 22/200\n",
      "132/132 [==============================] - 1s 10ms/step - loss: 1.2192 - accuracy: 0.6036 - val_loss: 1.2204 - val_accuracy: 0.6068\n",
      "Epoch 23/200\n",
      "132/132 [==============================] - 1s 10ms/step - loss: 1.2079 - accuracy: 0.6070 - val_loss: 1.2090 - val_accuracy: 0.6063\n",
      "Epoch 24/200\n",
      "132/132 [==============================] - 1s 9ms/step - loss: 1.1726 - accuracy: 0.6201 - val_loss: 1.1920 - val_accuracy: 0.6206\n",
      "Epoch 25/200\n",
      "132/132 [==============================] - 1s 9ms/step - loss: 1.1451 - accuracy: 0.6299 - val_loss: 1.1888 - val_accuracy: 0.6149\n",
      "Epoch 26/200\n",
      "132/132 [==============================] - 1s 10ms/step - loss: 1.1269 - accuracy: 0.6364 - val_loss: 1.1429 - val_accuracy: 0.6337\n",
      "Epoch 27/200\n",
      "132/132 [==============================] - 1s 9ms/step - loss: 1.1037 - accuracy: 0.6454 - val_loss: 1.1620 - val_accuracy: 0.6190\n",
      "Epoch 28/200\n",
      "132/132 [==============================] - 1s 10ms/step - loss: 1.0986 - accuracy: 0.6473 - val_loss: 1.1270 - val_accuracy: 0.6352\n",
      "Epoch 29/200\n",
      "132/132 [==============================] - 1s 9ms/step - loss: 1.0847 - accuracy: 0.6547 - val_loss: 1.1159 - val_accuracy: 0.6432\n",
      "Epoch 30/200\n",
      "132/132 [==============================] - 1s 10ms/step - loss: 1.0787 - accuracy: 0.6559 - val_loss: 1.0939 - val_accuracy: 0.6498\n",
      "Epoch 31/200\n",
      "132/132 [==============================] - 1s 10ms/step - loss: 1.0516 - accuracy: 0.6661 - val_loss: 1.0948 - val_accuracy: 0.6515\n",
      "Epoch 32/200\n",
      "132/132 [==============================] - 1s 10ms/step - loss: 1.0538 - accuracy: 0.6628 - val_loss: 1.0725 - val_accuracy: 0.6552\n",
      "Epoch 33/200\n",
      "132/132 [==============================] - 1s 11ms/step - loss: 1.0366 - accuracy: 0.6728 - val_loss: 1.0511 - val_accuracy: 0.6721\n",
      "Epoch 34/200\n",
      "132/132 [==============================] - 1s 10ms/step - loss: 1.0148 - accuracy: 0.6776 - val_loss: 1.0314 - val_accuracy: 0.6779\n",
      "Epoch 35/200\n",
      "132/132 [==============================] - 1s 10ms/step - loss: 1.0010 - accuracy: 0.6842 - val_loss: 1.0369 - val_accuracy: 0.6696\n",
      "Epoch 36/200\n",
      "132/132 [==============================] - 1s 9ms/step - loss: 0.9971 - accuracy: 0.6851 - val_loss: 1.0318 - val_accuracy: 0.6739\n",
      "Epoch 37/200\n",
      "132/132 [==============================] - 1s 9ms/step - loss: 0.9867 - accuracy: 0.6896 - val_loss: 1.0710 - val_accuracy: 0.6585\n",
      "Epoch 38/200\n",
      "132/132 [==============================] - 1s 10ms/step - loss: 0.9889 - accuracy: 0.6871 - val_loss: 1.0075 - val_accuracy: 0.6793\n",
      "Epoch 39/200\n",
      "132/132 [==============================] - 1s 10ms/step - loss: 0.9700 - accuracy: 0.6937 - val_loss: 1.0400 - val_accuracy: 0.6674\n",
      "Epoch 40/200\n",
      "132/132 [==============================] - 1s 10ms/step - loss: 0.9588 - accuracy: 0.6998 - val_loss: 1.0585 - val_accuracy: 0.6608\n",
      "Epoch 41/200\n",
      "132/132 [==============================] - 1s 10ms/step - loss: 0.9489 - accuracy: 0.7011 - val_loss: 0.9856 - val_accuracy: 0.6927\n",
      "Epoch 42/200\n",
      "132/132 [==============================] - 1s 10ms/step - loss: 0.9367 - accuracy: 0.7056 - val_loss: 1.0373 - val_accuracy: 0.6701\n",
      "Epoch 43/200\n",
      "132/132 [==============================] - 1s 10ms/step - loss: 0.9267 - accuracy: 0.7087 - val_loss: 0.9674 - val_accuracy: 0.6982\n",
      "Epoch 44/200\n"
     ]
    },
    {
     "name": "stdout",
     "output_type": "stream",
     "text": [
      "132/132 [==============================] - 1s 10ms/step - loss: 0.9192 - accuracy: 0.7143 - val_loss: 0.9482 - val_accuracy: 0.7080\n",
      "Epoch 45/200\n",
      "132/132 [==============================] - 1s 9ms/step - loss: 0.9072 - accuracy: 0.7163 - val_loss: 0.9818 - val_accuracy: 0.6920\n",
      "Epoch 46/200\n",
      "132/132 [==============================] - 1s 11ms/step - loss: 0.9075 - accuracy: 0.7160 - val_loss: 0.9466 - val_accuracy: 0.7093\n",
      "Epoch 47/200\n",
      "132/132 [==============================] - 1s 11ms/step - loss: 0.8950 - accuracy: 0.7179 - val_loss: 0.9465 - val_accuracy: 0.7086\n",
      "Epoch 48/200\n",
      "132/132 [==============================] - 1s 9ms/step - loss: 0.8849 - accuracy: 0.7250 - val_loss: 0.9343 - val_accuracy: 0.7132\n",
      "Epoch 49/200\n",
      "132/132 [==============================] - 1s 10ms/step - loss: 0.8715 - accuracy: 0.7282 - val_loss: 0.9311 - val_accuracy: 0.7126\n",
      "Epoch 50/200\n",
      "132/132 [==============================] - 1s 9ms/step - loss: 0.8698 - accuracy: 0.7292 - val_loss: 0.9319 - val_accuracy: 0.7108\n",
      "Epoch 51/200\n",
      "132/132 [==============================] - 1s 9ms/step - loss: 0.8587 - accuracy: 0.7291 - val_loss: 0.9186 - val_accuracy: 0.7164\n",
      "Epoch 52/200\n",
      "132/132 [==============================] - 1s 8ms/step - loss: 0.8590 - accuracy: 0.7327 - val_loss: 0.9058 - val_accuracy: 0.7213\n",
      "Epoch 53/200\n",
      "132/132 [==============================] - 1s 9ms/step - loss: 0.8456 - accuracy: 0.7368 - val_loss: 0.8880 - val_accuracy: 0.7275\n",
      "Epoch 54/200\n",
      "132/132 [==============================] - 1s 9ms/step - loss: 0.8363 - accuracy: 0.7399 - val_loss: 0.8997 - val_accuracy: 0.7252\n",
      "Epoch 55/200\n",
      "132/132 [==============================] - 1s 9ms/step - loss: 0.8289 - accuracy: 0.7436 - val_loss: 0.9011 - val_accuracy: 0.7180\n",
      "Epoch 56/200\n",
      "132/132 [==============================] - 1s 9ms/step - loss: 0.8275 - accuracy: 0.7416 - val_loss: 0.8572 - val_accuracy: 0.7368\n",
      "Epoch 57/200\n",
      "132/132 [==============================] - 1s 7ms/step - loss: 0.8159 - accuracy: 0.7476 - val_loss: 0.8863 - val_accuracy: 0.7290\n",
      "Epoch 58/200\n",
      "132/132 [==============================] - 1s 7ms/step - loss: 0.8064 - accuracy: 0.7513 - val_loss: 0.8882 - val_accuracy: 0.7248\n",
      "Epoch 59/200\n",
      "132/132 [==============================] - 1s 7ms/step - loss: 0.7987 - accuracy: 0.7514 - val_loss: 0.8695 - val_accuracy: 0.7326\n",
      "Epoch 60/200\n",
      "132/132 [==============================] - 1s 8ms/step - loss: 0.8027 - accuracy: 0.7516 - val_loss: 0.8698 - val_accuracy: 0.7282\n",
      "Epoch 61/200\n",
      "132/132 [==============================] - 1s 9ms/step - loss: 0.7980 - accuracy: 0.7513 - val_loss: 0.9352 - val_accuracy: 0.7140\n",
      "Epoch 62/200\n",
      "132/132 [==============================] - 1s 8ms/step - loss: 0.7865 - accuracy: 0.7564 - val_loss: 0.8451 - val_accuracy: 0.7377\n",
      "Epoch 63/200\n",
      "132/132 [==============================] - 1s 8ms/step - loss: 0.7728 - accuracy: 0.7610 - val_loss: 0.8522 - val_accuracy: 0.7369\n",
      "Epoch 64/200\n",
      "132/132 [==============================] - 1s 9ms/step - loss: 0.7659 - accuracy: 0.7616 - val_loss: 0.8511 - val_accuracy: 0.7369\n",
      "Epoch 65/200\n",
      "132/132 [==============================] - 1s 10ms/step - loss: 0.7747 - accuracy: 0.7591 - val_loss: 0.8519 - val_accuracy: 0.7383\n",
      "Epoch 66/200\n",
      "132/132 [==============================] - 1s 9ms/step - loss: 0.7631 - accuracy: 0.7621 - val_loss: 0.8286 - val_accuracy: 0.7440\n",
      "Epoch 67/200\n",
      "132/132 [==============================] - 1s 9ms/step - loss: 0.7546 - accuracy: 0.7671 - val_loss: 0.8199 - val_accuracy: 0.7487\n",
      "Epoch 68/200\n",
      "132/132 [==============================] - 1s 10ms/step - loss: 0.7494 - accuracy: 0.7673 - val_loss: 0.8182 - val_accuracy: 0.7464\n",
      "Epoch 69/200\n",
      "132/132 [==============================] - 1s 9ms/step - loss: 0.7492 - accuracy: 0.7674 - val_loss: 0.8412 - val_accuracy: 0.7415\n",
      "Epoch 70/200\n",
      "132/132 [==============================] - 1s 8ms/step - loss: 0.7437 - accuracy: 0.7691 - val_loss: 0.8407 - val_accuracy: 0.7423\n",
      "Epoch 71/200\n",
      "132/132 [==============================] - 1s 9ms/step - loss: 0.7400 - accuracy: 0.7733 - val_loss: 0.8152 - val_accuracy: 0.7550\n",
      "Epoch 72/200\n",
      "132/132 [==============================] - 1s 9ms/step - loss: 0.7389 - accuracy: 0.7702 - val_loss: 0.8060 - val_accuracy: 0.7508\n",
      "Epoch 73/200\n",
      "132/132 [==============================] - 1s 11ms/step - loss: 0.7238 - accuracy: 0.7765 - val_loss: 0.8230 - val_accuracy: 0.7475\n",
      "Epoch 74/200\n",
      "132/132 [==============================] - 1s 9ms/step - loss: 0.7315 - accuracy: 0.7711 - val_loss: 0.8341 - val_accuracy: 0.7420\n",
      "Epoch 75/200\n",
      "132/132 [==============================] - 1s 10ms/step - loss: 0.7270 - accuracy: 0.7738 - val_loss: 0.8011 - val_accuracy: 0.7533\n",
      "Epoch 76/200\n",
      "132/132 [==============================] - 1s 10ms/step - loss: 0.7193 - accuracy: 0.7757 - val_loss: 0.8109 - val_accuracy: 0.7508\n",
      "Epoch 77/200\n",
      "132/132 [==============================] - 1s 9ms/step - loss: 0.7240 - accuracy: 0.7751 - val_loss: 0.8144 - val_accuracy: 0.7482\n",
      "Epoch 78/200\n",
      "132/132 [==============================] - 1s 8ms/step - loss: 0.7151 - accuracy: 0.7767 - val_loss: 0.7914 - val_accuracy: 0.7568\n",
      "Epoch 79/200\n",
      "132/132 [==============================] - 1s 9ms/step - loss: 0.7040 - accuracy: 0.7817 - val_loss: 0.8132 - val_accuracy: 0.7506\n",
      "Epoch 80/200\n",
      "132/132 [==============================] - 1s 10ms/step - loss: 0.6954 - accuracy: 0.7840 - val_loss: 0.7987 - val_accuracy: 0.7563\n",
      "Epoch 81/200\n",
      "132/132 [==============================] - 1s 10ms/step - loss: 0.7045 - accuracy: 0.7803 - val_loss: 0.8085 - val_accuracy: 0.7488\n",
      "Epoch 82/200\n",
      "132/132 [==============================] - 1s 9ms/step - loss: 0.7019 - accuracy: 0.7821 - val_loss: 0.7957 - val_accuracy: 0.7538\n",
      "Epoch 83/200\n",
      "132/132 [==============================] - 1s 11ms/step - loss: 0.6921 - accuracy: 0.7841 - val_loss: 0.8246 - val_accuracy: 0.7429\n",
      "Epoch 84/200\n",
      "132/132 [==============================] - 1s 9ms/step - loss: 0.6990 - accuracy: 0.7832 - val_loss: 0.7953 - val_accuracy: 0.7606\n",
      "Epoch 85/200\n",
      "132/132 [==============================] - 1s 9ms/step - loss: 0.6844 - accuracy: 0.7879 - val_loss: 0.7850 - val_accuracy: 0.7637\n",
      "Epoch 86/200\n",
      "132/132 [==============================] - 1s 9ms/step - loss: 0.6874 - accuracy: 0.7871 - val_loss: 0.7930 - val_accuracy: 0.7570\n",
      "Epoch 87/200\n",
      "132/132 [==============================] - 1s 9ms/step - loss: 0.6739 - accuracy: 0.7925 - val_loss: 0.8147 - val_accuracy: 0.7540\n",
      "Epoch 88/200\n",
      "132/132 [==============================] - 1s 10ms/step - loss: 0.6758 - accuracy: 0.7907 - val_loss: 0.7882 - val_accuracy: 0.7581\n",
      "Epoch 89/200\n",
      "132/132 [==============================] - 1s 11ms/step - loss: 0.6831 - accuracy: 0.7875 - val_loss: 0.8117 - val_accuracy: 0.7517\n",
      "Epoch 90/200\n",
      "132/132 [==============================] - 1s 10ms/step - loss: 0.6790 - accuracy: 0.7889 - val_loss: 0.7923 - val_accuracy: 0.7585\n",
      "Epoch 91/200\n",
      "132/132 [==============================] - 1s 10ms/step - loss: 0.6724 - accuracy: 0.7916 - val_loss: 0.7831 - val_accuracy: 0.7582\n",
      "Epoch 92/200\n",
      "132/132 [==============================] - 1s 9ms/step - loss: 0.6703 - accuracy: 0.7906 - val_loss: 0.7647 - val_accuracy: 0.7685\n",
      "Epoch 93/200\n",
      "132/132 [==============================] - 1s 8ms/step - loss: 0.6727 - accuracy: 0.7916 - val_loss: 0.7732 - val_accuracy: 0.7645\n",
      "Epoch 94/200\n",
      "132/132 [==============================] - 1s 10ms/step - loss: 0.6662 - accuracy: 0.7936 - val_loss: 0.7776 - val_accuracy: 0.7601\n",
      "Epoch 95/200\n",
      "132/132 [==============================] - 1s 9ms/step - loss: 0.6658 - accuracy: 0.7904 - val_loss: 0.7439 - val_accuracy: 0.7738\n",
      "Epoch 96/200\n",
      "132/132 [==============================] - 1s 10ms/step - loss: 0.6579 - accuracy: 0.7940 - val_loss: 0.7638 - val_accuracy: 0.7673\n",
      "Epoch 97/200\n",
      "132/132 [==============================] - 1s 9ms/step - loss: 0.6538 - accuracy: 0.7966 - val_loss: 0.7817 - val_accuracy: 0.7593\n",
      "Epoch 98/200\n",
      "132/132 [==============================] - 1s 9ms/step - loss: 0.6570 - accuracy: 0.7947 - val_loss: 0.7530 - val_accuracy: 0.7713\n",
      "Epoch 99/200\n",
      "132/132 [==============================] - 1s 9ms/step - loss: 0.6539 - accuracy: 0.7955 - val_loss: 0.7561 - val_accuracy: 0.7704\n",
      "Epoch 100/200\n",
      "132/132 [==============================] - 1s 9ms/step - loss: 0.6507 - accuracy: 0.7960 - val_loss: 0.7590 - val_accuracy: 0.7712\n"
     ]
    },
    {
     "name": "stdout",
     "output_type": "stream",
     "text": [
      "Epoch 101/200\n",
      "132/132 [==============================] - 1s 8ms/step - loss: 0.6384 - accuracy: 0.8028 - val_loss: 0.7564 - val_accuracy: 0.7696\n",
      "Epoch 102/200\n",
      "132/132 [==============================] - 1s 8ms/step - loss: 0.6551 - accuracy: 0.7940 - val_loss: 0.7744 - val_accuracy: 0.7593\n",
      "Epoch 103/200\n",
      "132/132 [==============================] - 1s 8ms/step - loss: 0.6525 - accuracy: 0.7964 - val_loss: 0.7945 - val_accuracy: 0.7606\n",
      "Epoch 104/200\n",
      "132/132 [==============================] - 1s 9ms/step - loss: 0.6338 - accuracy: 0.8015 - val_loss: 0.7562 - val_accuracy: 0.7724\n",
      "Epoch 105/200\n",
      "132/132 [==============================] - 1s 8ms/step - loss: 0.6348 - accuracy: 0.8032 - val_loss: 0.7603 - val_accuracy: 0.7658\n",
      "Epoch 106/200\n",
      "132/132 [==============================] - 1s 10ms/step - loss: 0.6376 - accuracy: 0.8011 - val_loss: 0.7475 - val_accuracy: 0.7796\n",
      "Epoch 107/200\n",
      "132/132 [==============================] - 1s 10ms/step - loss: 0.6390 - accuracy: 0.8022 - val_loss: 0.7525 - val_accuracy: 0.7740\n",
      "Epoch 108/200\n",
      "132/132 [==============================] - 1s 10ms/step - loss: 0.6359 - accuracy: 0.8048 - val_loss: 0.7633 - val_accuracy: 0.7714\n",
      "Epoch 109/200\n",
      "132/132 [==============================] - 1s 11ms/step - loss: 0.6212 - accuracy: 0.8071 - val_loss: 0.7523 - val_accuracy: 0.7746\n",
      "Epoch 110/200\n",
      "132/132 [==============================] - 1s 10ms/step - loss: 0.6292 - accuracy: 0.8037 - val_loss: 0.7548 - val_accuracy: 0.7710\n",
      "Epoch 111/200\n",
      "132/132 [==============================] - 1s 9ms/step - loss: 0.6252 - accuracy: 0.8062 - val_loss: 0.7314 - val_accuracy: 0.7813\n",
      "Epoch 112/200\n",
      "132/132 [==============================] - 1s 10ms/step - loss: 0.6159 - accuracy: 0.8077 - val_loss: 0.7485 - val_accuracy: 0.7730\n",
      "Epoch 113/200\n",
      "132/132 [==============================] - 1s 9ms/step - loss: 0.6224 - accuracy: 0.8073 - val_loss: 0.7243 - val_accuracy: 0.7819\n",
      "Epoch 114/200\n",
      "132/132 [==============================] - 1s 10ms/step - loss: 0.6171 - accuracy: 0.8065 - val_loss: 0.7402 - val_accuracy: 0.7748\n",
      "Epoch 115/200\n",
      "132/132 [==============================] - 1s 10ms/step - loss: 0.6175 - accuracy: 0.8061 - val_loss: 0.7669 - val_accuracy: 0.7675\n",
      "Epoch 116/200\n",
      "132/132 [==============================] - 1s 10ms/step - loss: 0.6080 - accuracy: 0.8103 - val_loss: 0.7434 - val_accuracy: 0.7750\n",
      "Epoch 117/200\n",
      "132/132 [==============================] - 1s 10ms/step - loss: 0.6057 - accuracy: 0.8124 - val_loss: 0.7476 - val_accuracy: 0.7739\n",
      "Epoch 118/200\n",
      "132/132 [==============================] - 1s 10ms/step - loss: 0.6094 - accuracy: 0.8103 - val_loss: 0.7425 - val_accuracy: 0.7783\n",
      "Epoch 119/200\n",
      "132/132 [==============================] - 1s 9ms/step - loss: 0.6050 - accuracy: 0.8110 - val_loss: 0.7538 - val_accuracy: 0.7779\n",
      "Epoch 120/200\n",
      "132/132 [==============================] - 1s 10ms/step - loss: 0.6099 - accuracy: 0.8095 - val_loss: 0.7304 - val_accuracy: 0.7840\n",
      "Epoch 121/200\n",
      "132/132 [==============================] - 1s 10ms/step - loss: 0.6067 - accuracy: 0.8130 - val_loss: 0.7386 - val_accuracy: 0.7800\n",
      "Epoch 122/200\n",
      "132/132 [==============================] - 1s 8ms/step - loss: 0.6023 - accuracy: 0.8136 - val_loss: 0.7561 - val_accuracy: 0.7740\n",
      "Epoch 123/200\n",
      "132/132 [==============================] - 1s 9ms/step - loss: 0.6036 - accuracy: 0.8120 - val_loss: 0.7449 - val_accuracy: 0.7740\n",
      "Epoch 124/200\n",
      "132/132 [==============================] - 1s 9ms/step - loss: 0.5934 - accuracy: 0.8163 - val_loss: 0.7153 - val_accuracy: 0.7856\n",
      "Epoch 125/200\n",
      "132/132 [==============================] - 1s 9ms/step - loss: 0.5939 - accuracy: 0.8162 - val_loss: 0.7361 - val_accuracy: 0.7799\n",
      "Epoch 126/200\n",
      "132/132 [==============================] - 1s 9ms/step - loss: 0.5970 - accuracy: 0.8145 - val_loss: 0.7231 - val_accuracy: 0.7851\n",
      "Epoch 127/200\n",
      "132/132 [==============================] - 1s 8ms/step - loss: 0.5930 - accuracy: 0.8160 - val_loss: 0.7521 - val_accuracy: 0.7794\n",
      "Epoch 128/200\n",
      "132/132 [==============================] - 1s 8ms/step - loss: 0.5940 - accuracy: 0.8164 - val_loss: 0.7470 - val_accuracy: 0.7746\n",
      "Epoch 129/200\n",
      "132/132 [==============================] - 1s 8ms/step - loss: 0.6084 - accuracy: 0.8106 - val_loss: 0.7461 - val_accuracy: 0.7824\n",
      "Epoch 130/200\n",
      "132/132 [==============================] - 1s 10ms/step - loss: 0.5821 - accuracy: 0.8197 - val_loss: 0.7342 - val_accuracy: 0.7850\n",
      "Epoch 131/200\n",
      "132/132 [==============================] - 1s 9ms/step - loss: 0.5863 - accuracy: 0.8174 - val_loss: 0.7316 - val_accuracy: 0.7844\n",
      "Epoch 132/200\n",
      "132/132 [==============================] - 1s 10ms/step - loss: 0.5841 - accuracy: 0.8169 - val_loss: 0.7386 - val_accuracy: 0.7799\n",
      "Epoch 133/200\n",
      "132/132 [==============================] - 1s 11ms/step - loss: 0.5910 - accuracy: 0.8151 - val_loss: 0.7461 - val_accuracy: 0.7795\n",
      "Epoch 134/200\n",
      "132/132 [==============================] - 1s 9ms/step - loss: 0.5830 - accuracy: 0.8185 - val_loss: 0.7189 - val_accuracy: 0.7862\n",
      "Epoch 135/200\n",
      "132/132 [==============================] - 1s 10ms/step - loss: 0.5772 - accuracy: 0.8193 - val_loss: 0.7569 - val_accuracy: 0.7798\n",
      "Epoch 136/200\n",
      "132/132 [==============================] - 1s 10ms/step - loss: 0.5810 - accuracy: 0.8198 - val_loss: 0.7209 - val_accuracy: 0.7837\n",
      "Epoch 137/200\n",
      "132/132 [==============================] - 1s 10ms/step - loss: 0.5796 - accuracy: 0.8201 - val_loss: 0.7357 - val_accuracy: 0.7827\n",
      "Epoch 138/200\n",
      "132/132 [==============================] - 1s 5ms/step - loss: 0.5723 - accuracy: 0.8234 - val_loss: 0.7184 - val_accuracy: 0.7893\n",
      "Epoch 139/200\n",
      "132/132 [==============================] - 1s 5ms/step - loss: 0.5762 - accuracy: 0.8212 - val_loss: 0.7255 - val_accuracy: 0.7877\n",
      "Epoch 140/200\n",
      "132/132 [==============================] - 1s 10ms/step - loss: 0.5645 - accuracy: 0.8254 - val_loss: 0.7205 - val_accuracy: 0.7896\n",
      "Epoch 141/200\n",
      "132/132 [==============================] - 1s 10ms/step - loss: 0.5705 - accuracy: 0.8215 - val_loss: 0.7246 - val_accuracy: 0.7880\n",
      "Epoch 142/200\n",
      "132/132 [==============================] - 1s 6ms/step - loss: 0.5731 - accuracy: 0.8206 - val_loss: 0.7248 - val_accuracy: 0.7848\n",
      "Epoch 143/200\n",
      "132/132 [==============================] - 0s 4ms/step - loss: 0.5616 - accuracy: 0.8261 - val_loss: 0.7156 - val_accuracy: 0.7900\n",
      "Epoch 144/200\n",
      "132/132 [==============================] - 1s 10ms/step - loss: 0.5605 - accuracy: 0.8254 - val_loss: 0.7284 - val_accuracy: 0.7850\n",
      "Epoch 145/200\n",
      "132/132 [==============================] - 1s 11ms/step - loss: 0.5581 - accuracy: 0.8288 - val_loss: 0.7201 - val_accuracy: 0.7863\n",
      "Epoch 146/200\n",
      "132/132 [==============================] - 1s 10ms/step - loss: 0.5569 - accuracy: 0.8262 - val_loss: 0.7262 - val_accuracy: 0.7826\n",
      "Epoch 147/200\n",
      "132/132 [==============================] - 1s 9ms/step - loss: 0.5612 - accuracy: 0.8257 - val_loss: 0.7060 - val_accuracy: 0.7925\n",
      "Epoch 148/200\n",
      "132/132 [==============================] - 1s 8ms/step - loss: 0.5545 - accuracy: 0.8276 - val_loss: 0.7020 - val_accuracy: 0.7920\n",
      "Epoch 149/200\n",
      "132/132 [==============================] - 1s 8ms/step - loss: 0.5516 - accuracy: 0.8278 - val_loss: 0.6983 - val_accuracy: 0.7933\n",
      "Epoch 150/200\n",
      "132/132 [==============================] - 1s 8ms/step - loss: 0.5599 - accuracy: 0.8237 - val_loss: 0.7277 - val_accuracy: 0.7848\n",
      "Epoch 151/200\n",
      "132/132 [==============================] - 1s 8ms/step - loss: 0.5496 - accuracy: 0.8294 - val_loss: 0.7086 - val_accuracy: 0.7894\n",
      "Epoch 152/200\n",
      "132/132 [==============================] - 1s 8ms/step - loss: 0.5508 - accuracy: 0.8278 - val_loss: 0.7055 - val_accuracy: 0.7944\n",
      "Epoch 153/200\n",
      "132/132 [==============================] - 1s 9ms/step - loss: 0.5605 - accuracy: 0.8257 - val_loss: 0.7403 - val_accuracy: 0.7846\n",
      "Epoch 154/200\n",
      "132/132 [==============================] - 1s 11ms/step - loss: 0.5522 - accuracy: 0.8284 - val_loss: 0.6979 - val_accuracy: 0.7946\n",
      "Epoch 155/200\n",
      "132/132 [==============================] - 1s 8ms/step - loss: 0.5571 - accuracy: 0.8256 - val_loss: 0.7274 - val_accuracy: 0.7831\n",
      "Epoch 156/200\n",
      "132/132 [==============================] - 1s 9ms/step - loss: 0.5425 - accuracy: 0.8322 - val_loss: 0.7162 - val_accuracy: 0.7896\n",
      "Epoch 157/200\n"
     ]
    },
    {
     "name": "stdout",
     "output_type": "stream",
     "text": [
      "132/132 [==============================] - 1s 8ms/step - loss: 0.5446 - accuracy: 0.8301 - val_loss: 0.7315 - val_accuracy: 0.7836\n",
      "Epoch 158/200\n",
      "132/132 [==============================] - 1s 9ms/step - loss: 0.5527 - accuracy: 0.8285 - val_loss: 0.7077 - val_accuracy: 0.7881\n",
      "Epoch 159/200\n",
      "132/132 [==============================] - 2s 11ms/step - loss: 0.5467 - accuracy: 0.8296 - val_loss: 0.7303 - val_accuracy: 0.7838\n",
      "Epoch 160/200\n",
      "132/132 [==============================] - 2s 11ms/step - loss: 0.5412 - accuracy: 0.8328 - val_loss: 0.6999 - val_accuracy: 0.7957\n",
      "Epoch 161/200\n",
      "132/132 [==============================] - 1s 5ms/step - loss: 0.5402 - accuracy: 0.8317 - val_loss: 0.7083 - val_accuracy: 0.7912\n",
      "Epoch 162/200\n",
      "132/132 [==============================] - 1s 4ms/step - loss: 0.5294 - accuracy: 0.8346 - val_loss: 0.7080 - val_accuracy: 0.7914\n",
      "Epoch 163/200\n",
      "132/132 [==============================] - 1s 4ms/step - loss: 0.5417 - accuracy: 0.8323 - val_loss: 0.7150 - val_accuracy: 0.7890\n",
      "Epoch 164/200\n",
      "132/132 [==============================] - 1s 11ms/step - loss: 0.5284 - accuracy: 0.8381 - val_loss: 0.7090 - val_accuracy: 0.7924\n",
      "Epoch 165/200\n",
      "132/132 [==============================] - 1s 11ms/step - loss: 0.5292 - accuracy: 0.8372 - val_loss: 0.7161 - val_accuracy: 0.7917\n",
      "Epoch 166/200\n",
      "132/132 [==============================] - 1s 11ms/step - loss: 0.5295 - accuracy: 0.8350 - val_loss: 0.7388 - val_accuracy: 0.7850\n",
      "Epoch 167/200\n",
      "132/132 [==============================] - 1s 11ms/step - loss: 0.5407 - accuracy: 0.8325 - val_loss: 0.6973 - val_accuracy: 0.7955\n",
      "Epoch 168/200\n",
      "132/132 [==============================] - 1s 10ms/step - loss: 0.5383 - accuracy: 0.8336 - val_loss: 0.7253 - val_accuracy: 0.7880\n",
      "Epoch 169/200\n",
      "132/132 [==============================] - 1s 11ms/step - loss: 0.5229 - accuracy: 0.8366 - val_loss: 0.7008 - val_accuracy: 0.7955\n",
      "Epoch 170/200\n",
      "132/132 [==============================] - 1s 10ms/step - loss: 0.5290 - accuracy: 0.8352 - val_loss: 0.7387 - val_accuracy: 0.7839\n",
      "Epoch 171/200\n",
      "132/132 [==============================] - 2s 12ms/step - loss: 0.5375 - accuracy: 0.8327 - val_loss: 0.6997 - val_accuracy: 0.7912\n",
      "Epoch 172/200\n",
      "132/132 [==============================] - 1s 10ms/step - loss: 0.5337 - accuracy: 0.8353 - val_loss: 0.6971 - val_accuracy: 0.7981\n",
      "Epoch 173/200\n",
      "132/132 [==============================] - 1s 10ms/step - loss: 0.5278 - accuracy: 0.8363 - val_loss: 0.7088 - val_accuracy: 0.7912\n",
      "Epoch 174/200\n",
      "132/132 [==============================] - 1s 11ms/step - loss: 0.5385 - accuracy: 0.8310 - val_loss: 0.6867 - val_accuracy: 0.7981\n",
      "Epoch 175/200\n",
      "132/132 [==============================] - 1s 11ms/step - loss: 0.5271 - accuracy: 0.8357 - val_loss: 0.7096 - val_accuracy: 0.7935\n",
      "Epoch 176/200\n",
      "132/132 [==============================] - 1s 9ms/step - loss: 0.5218 - accuracy: 0.8385 - val_loss: 0.7053 - val_accuracy: 0.7961\n",
      "Epoch 177/200\n",
      "132/132 [==============================] - 1s 10ms/step - loss: 0.5207 - accuracy: 0.8399 - val_loss: 0.6963 - val_accuracy: 0.7975\n",
      "Epoch 178/200\n",
      "132/132 [==============================] - 1s 11ms/step - loss: 0.5241 - accuracy: 0.8364 - val_loss: 0.7314 - val_accuracy: 0.7907\n",
      "Epoch 179/200\n",
      "132/132 [==============================] - 1s 11ms/step - loss: 0.5271 - accuracy: 0.8342 - val_loss: 0.7121 - val_accuracy: 0.7894\n",
      "Epoch 180/200\n",
      "132/132 [==============================] - 1s 11ms/step - loss: 0.5224 - accuracy: 0.8370 - val_loss: 0.7230 - val_accuracy: 0.7907\n",
      "Epoch 181/200\n",
      "132/132 [==============================] - 1s 10ms/step - loss: 0.5130 - accuracy: 0.8415 - val_loss: 0.7005 - val_accuracy: 0.7970\n",
      "Epoch 182/200\n",
      "132/132 [==============================] - 1s 10ms/step - loss: 0.5128 - accuracy: 0.8426 - val_loss: 0.6906 - val_accuracy: 0.7979\n",
      "Epoch 183/200\n",
      "132/132 [==============================] - 1s 11ms/step - loss: 0.5126 - accuracy: 0.8407 - val_loss: 0.7620 - val_accuracy: 0.7756\n",
      "Epoch 184/200\n",
      "132/132 [==============================] - 1s 11ms/step - loss: 0.5205 - accuracy: 0.8377 - val_loss: 0.7219 - val_accuracy: 0.7863\n",
      "Epoch 185/200\n",
      "132/132 [==============================] - 1s 11ms/step - loss: 0.5108 - accuracy: 0.8423 - val_loss: 0.7176 - val_accuracy: 0.7919\n",
      "Epoch 186/200\n",
      "132/132 [==============================] - 1s 10ms/step - loss: 0.5191 - accuracy: 0.8371 - val_loss: 0.6856 - val_accuracy: 0.8011\n",
      "Epoch 187/200\n",
      "132/132 [==============================] - 1s 11ms/step - loss: 0.5085 - accuracy: 0.8426 - val_loss: 0.7005 - val_accuracy: 0.7956\n",
      "Epoch 188/200\n",
      "132/132 [==============================] - 1s 11ms/step - loss: 0.5091 - accuracy: 0.8404 - val_loss: 0.6853 - val_accuracy: 0.8018\n",
      "Epoch 189/200\n",
      "132/132 [==============================] - 1s 10ms/step - loss: 0.5066 - accuracy: 0.8427 - val_loss: 0.7218 - val_accuracy: 0.7920\n",
      "Epoch 190/200\n",
      "132/132 [==============================] - 1s 10ms/step - loss: 0.5089 - accuracy: 0.8409 - val_loss: 0.7190 - val_accuracy: 0.7890\n",
      "Epoch 191/200\n",
      "132/132 [==============================] - 1s 11ms/step - loss: 0.5190 - accuracy: 0.8365 - val_loss: 0.6885 - val_accuracy: 0.7996\n",
      "Epoch 192/200\n",
      "132/132 [==============================] - 1s 9ms/step - loss: 0.5056 - accuracy: 0.8417 - val_loss: 0.6950 - val_accuracy: 0.7958\n",
      "Epoch 193/200\n",
      "132/132 [==============================] - 1s 11ms/step - loss: 0.5081 - accuracy: 0.8399 - val_loss: 0.7116 - val_accuracy: 0.7929\n",
      "Epoch 194/200\n",
      "132/132 [==============================] - 1s 10ms/step - loss: 0.4964 - accuracy: 0.8466 - val_loss: 0.7157 - val_accuracy: 0.7926\n",
      "Epoch 195/200\n",
      "132/132 [==============================] - 1s 10ms/step - loss: 0.5062 - accuracy: 0.8418 - val_loss: 0.7096 - val_accuracy: 0.7937\n",
      "Epoch 196/200\n",
      "132/132 [==============================] - 1s 11ms/step - loss: 0.5037 - accuracy: 0.8428 - val_loss: 0.7079 - val_accuracy: 0.7964\n",
      "Epoch 197/200\n",
      "132/132 [==============================] - 1s 11ms/step - loss: 0.5033 - accuracy: 0.8435 - val_loss: 0.7010 - val_accuracy: 0.7937\n",
      "Epoch 198/200\n",
      "132/132 [==============================] - 1s 10ms/step - loss: 0.5017 - accuracy: 0.8440 - val_loss: 0.6981 - val_accuracy: 0.7992\n",
      "Epoch 199/200\n",
      "132/132 [==============================] - 1s 10ms/step - loss: 0.4996 - accuracy: 0.8442 - val_loss: 0.7007 - val_accuracy: 0.7968\n",
      "Epoch 200/200\n",
      "132/132 [==============================] - 1s 9ms/step - loss: 0.5092 - accuracy: 0.8415 - val_loss: 0.7023 - val_accuracy: 0.7937\n"
     ]
    }
   ],
   "source": [
    "EPOCHS = 200\n",
    "history = Model.fit(X_train,\n",
    "                      y_train_encoded,\n",
    "                      batch_size=256 , \n",
    "                      epochs=EPOCHS , \n",
    "                      validation_split=0.2,\n",
    "                      verbose = 1)\n",
    "\n",
    "# save trained model\n",
    "Model.save(\"Image_Classification_Model.h5\")"
   ]
  },
  {
   "cell_type": "markdown",
   "metadata": {},
   "source": [
    "### C. Evaluate performance of the model with appropriate metrics. [2 Marks]"
   ]
  },
  {
   "cell_type": "code",
   "execution_count": 16,
   "metadata": {},
   "outputs": [
    {
     "name": "stdout",
     "output_type": "stream",
     "text": [
      "4200/4200 [==============================] - 10s 2ms/step - loss: 0.5387 - accuracy: 0.8342\n",
      "WARNING:tensorflow:AutoGraph could not transform <function Model.make_predict_function.<locals>.predict_function at 0x00000266B1F9B798> and will run it as-is.\n",
      "Please report this to the TensorFlow team. When filing the bug, set the verbosity to 10 (on Linux, `export AUTOGRAPH_VERBOSITY=10`) and attach the full output.\n",
      "Cause: 'arguments' object has no attribute 'posonlyargs'\n",
      "To silence this warning, decorate the function with @tf.autograph.experimental.do_not_convert\n",
      "WARNING: AutoGraph could not transform <function Model.make_predict_function.<locals>.predict_function at 0x00000266B1F9B798> and will run it as-is.\n",
      "Please report this to the TensorFlow team. When filing the bug, set the verbosity to 10 (on Linux, `export AUTOGRAPH_VERBOSITY=10`) and attach the full output.\n",
      "Cause: 'arguments' object has no attribute 'posonlyargs'\n",
      "To silence this warning, decorate the function with @tf.autograph.experimental.do_not_convert\n",
      "563/563 [==============================] - 1s 2ms/step\n",
      "-----------------------Scores--------------------------\n",
      "First Model Performance: \n",
      "Train score: 0.5387343168258667\n",
      "Train accuracy: 0.8342142701148987\n"
     ]
    }
   ],
   "source": [
    "# check scores\n",
    "score, acc = Model.evaluate(X_train, y_train_encoded,\n",
    "                            batch_size=10)\n",
    "\n",
    "# prediction on test Data\n",
    "y_pred_prob =  Model.predict(X_test)\n",
    "\n",
    "# convert probablites into index label\n",
    "y_pred = [ np.argmax(i)  for i in y_pred_prob]\n",
    "\n",
    "print(\"-----------------------Scores--------------------------\")\n",
    "\n",
    "print(\"First Model Performance: \")\n",
    "print('Train score:', score)\n",
    "print('Train accuracy:', acc)"
   ]
  },
  {
   "cell_type": "code",
   "execution_count": 17,
   "metadata": {},
   "outputs": [
    {
     "name": "stdout",
     "output_type": "stream",
     "text": [
      "-------------------Confusion Matrix---------------------\n",
      "[[1486   25   18   16   26   14   37   10   23   58]\n",
      " [  79 1554   54   71   64   28   36  104   62   51]\n",
      " [  17   17 1411   58   36   10   17   54   27   29]\n",
      " [  23   31   46 1227   25   83   18   17   58   55]\n",
      " [  64   63   34   26 1533   20   59   17   46   30]\n",
      " [  11   11   21  157   21 1412   99   10   72   85]\n",
      " [  37   13    8   13   34   84 1455   10  111   14]\n",
      " [  37   83  136   42   13   20   14 1541   15   35]\n",
      " [  11    9   29   59   24   54   74   11 1319   58]\n",
      " [  49   22   46   50   36   43   23   34   79 1389]]\n",
      "\n",
      "------------------Classificatin Report-------------------\n",
      "              precision    recall  f1-score   support\n",
      "\n",
      "           0       0.82      0.87      0.84      1713\n",
      "           1       0.85      0.74      0.79      2103\n",
      "           2       0.78      0.84      0.81      1676\n",
      "           3       0.71      0.78      0.74      1583\n",
      "           4       0.85      0.81      0.83      1892\n",
      "           5       0.80      0.74      0.77      1899\n",
      "           6       0.79      0.82      0.81      1779\n",
      "           7       0.85      0.80      0.82      1936\n",
      "           8       0.73      0.80      0.76      1648\n",
      "           9       0.77      0.78      0.78      1771\n",
      "\n",
      "    accuracy                           0.80     18000\n",
      "   macro avg       0.80      0.80      0.80     18000\n",
      "weighted avg       0.80      0.80      0.80     18000\n",
      "\n",
      "\n",
      "------------------Accuracy Scores-------------------\n",
      "0.7959444444444445\n",
      "\n"
     ]
    }
   ],
   "source": [
    "print(\"-------------------Confusion Matrix---------------------\")\n",
    "print(confusion_matrix(y_pred,y_test))\n",
    "print()\n",
    "print(\"------------------Classificatin Report-------------------\")\n",
    "print(classification_report(y_pred,y_test))\n",
    "print()\n",
    "print(\"------------------Accuracy Scores-------------------\")\n",
    "print(accuracy_score(y_pred,y_test))\n",
    "print()"
   ]
  },
  {
   "cell_type": "markdown",
   "metadata": {},
   "source": [
    "### D. Plot the training loss, validation loss vs number of epochs and training accuracy, validation accuracy vs number of epochs plot and write your observations on the same. [4 Marks]"
   ]
  },
  {
   "cell_type": "code",
   "execution_count": 18,
   "metadata": {},
   "outputs": [
    {
     "data": {
      "image/png": "[encoded data removed]",
      "text/plain": [
       "<Figure size 720x576 with 1 Axes>"
      ]
     },
     "metadata": {},
     "output_type": "display_data"
    }
   ],
   "source": [
    "# plot the training and validation loss\n",
    "N = np.arange(0, EPOCHS)\n",
    "plt.style.use(\"ggplot\")\n",
    "plt.figure(figsize = [10,8])\n",
    "plt.plot(N, history.history[\"loss\"], label=\"train_loss\")\n",
    "plt.plot(N, history.history[\"val_loss\"], label=\"val_loss\")\n",
    "plt.title(\"ANN: Training & Validation Loss\")\n",
    "plt.xlabel(\"Epoch #\", weight=\"bold\")\n",
    "plt.ylabel(\"Loss\", weight=\"bold\")\n",
    "plt.legend()\n",
    "plt.show()"
   ]
  },
  {
   "cell_type": "code",
   "execution_count": 19,
   "metadata": {},
   "outputs": [
    {
     "data": {
      "image/png": "[encoded data removed]",
      "text/plain": [
       "<Figure size 720x576 with 1 Axes>"
      ]
     },
     "metadata": {},
     "output_type": "display_data"
    }
   ],
   "source": [
    "# plot the training and validation accuracy\n",
    "N = np.arange(0, EPOCHS)\n",
    "plt.style.use(\"ggplot\")\n",
    "plt.figure(figsize = [10,8])\n",
    "plt.plot(N, history.history[\"accuracy\"], label=\"train_acc\")\n",
    "plt.plot(N, history.history[\"val_accuracy\"], label=\"val_acc\")\n",
    "plt.title(\"ANN: Training and Validation Accuracy\")\n",
    "plt.xlabel(\"Epoch #\", weight=\"bold\")\n",
    "plt.ylabel(\"Accuracy\", weight=\"bold\")\n",
    "plt.legend()\n",
    "plt.show()"
   ]
  },
  {
   "cell_type": "markdown",
   "metadata": {},
   "source": [
    "# Conlusion and Observation "
   ]
  },
  {
   "cell_type": "markdown",
   "metadata": {},
   "source": [
    "- There are around 10 classes in the dataset which represent digits from 0-9.\n",
    "\n",
    "- We tried training a Neural Network with dense hidden layers of different number of units and are able to achieve a final test accuracy of 80.74 %.\n",
    "\n",
    "-  Also we notice that after a certain point the model begins to overfit on our dataset as is clear from the plots above where the validation loss and val accuracy fluctuating liltle bit but its not increasing \n"
   ]
  },
  {
   "cell_type": "markdown",
   "metadata": {},
   "source": [
    "- The classification report tells us that numbers 0 and 4 have the highest f1-score (0.84) meaning they have the best chances of being accurately recognized. Whereas, numbers 3 and 8 have the lowest f1-score of (0.77).\n",
    "\n",
    "- Number 3 has the lowest precision and 1 and 7 has the highest, this means that the model is classifing other numbers as 3 which not valid. Whereas 1 and 7 has the lowest chances of being invalidly positive.\n",
    "\n",
    "- Number 0 has the highest recall, whereas 1 and 5 have the lowest. It indicates that the model is struggling to identify all 5's and 1's as what they are. Opposed to 0, which the model idenifies in high rates of completion.\n",
    "\n"
   ]
  },
  {
   "cell_type": "markdown",
   "metadata": {},
   "source": [
    "- So based on all observation we can conclude that there is still lot of scope for model improvemnet\n",
    "- We can use few more layers with batch normalization technique \n",
    "- we can also use pretrained model like VGG16 which will definetly give better accuracy\n"
   ]
  },
  {
   "cell_type": "markdown",
   "metadata": {},
   "source": [
    "Note: Image is unsturctre data and spatial data so ANN is not suitable for image data, so insted of ANN we have to use CNN archtecture which works better on Image data "
   ]
  },
  {
   "cell_type": "markdown",
   "metadata": {},
   "source": [
    "# THE END "
   ]
  },
  {
   "cell_type": "code",
   "execution_count": null,
   "metadata": {},
   "outputs": [],
   "source": []
  }
 ],
 "metadata": {
  "kernelspec": {
   "display_name": "Python 3",
   "language": "python",
   "name": "python3"
  },
  "language_info": {
   "codemirror_mode": {
    "name": "ipython",
    "version": 3
   },
   "file_extension": ".py",
   "mimetype": "text/x-python",
   "name": "python",
   "nbconvert_exporter": "python",
   "pygments_lexer": "ipython3",
   "version": "3.7.6"
  }
 },
 "nbformat": 4,
 "nbformat_minor": 4
}
